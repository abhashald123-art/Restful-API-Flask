{
 "cells": [
  {
   "cell_type": "code",
   "execution_count": null,
   "id": "a775e90b-9ada-48ff-9ecc-fb19e3b81925",
   "metadata": {},
   "outputs": [],
   "source": [
    "# 1  What is a RESTful API?\n",
    "\"\"\"\n",
    "A RESTful API is an interface that uses HTTP methods (GET, POST, PUT, DELETE) to perform operations on resources, following REST principles like\n",
    "statelessness and resource representation\n",
    "\"\"\""
   ]
  },
  {
   "cell_type": "code",
   "execution_count": null,
   "id": "ecb7bd48-6c19-4cce-a6cb-c14adedd7e3b",
   "metadata": {},
   "outputs": [],
   "source": [
    "# 2  Explain the concept of API specification\n",
    "\"\"\"\n",
    "An API specification is a structured document (like OpenAPI/Swagger) that defines how the API works, including endpoints,\n",
    "methods, request/response formats,and errorhandling\n",
    "\"\"\""
   ]
  },
  {
   "cell_type": "code",
   "execution_count": null,
   "id": "d9c8868d-1677-4d41-91be-54e020255838",
   "metadata": {},
   "outputs": [],
   "source": [
    "# 3  What is Flask, and why is it popular for building APIs?\n",
    "\"\"\"\n",
    "Flask is a lightweight Python web framework. It’s popular because it’s simple, flexible, and easy to extend with libraries for building APIs quickly\n",
    "\"\"\"\n"
   ]
  },
  {
   "cell_type": "code",
   "execution_count": null,
   "id": "aa55c410-c624-4526-b0c8-44eb4f31d477",
   "metadata": {},
   "outputs": [],
   "source": [
    "# 4 What is routing in Flask?\n",
    "\"\"\"\n",
    "Routing maps URLs to functions in Flask, allowing specific endpoints to trigger specific code when accessed\n",
    "\"\"\""
   ]
  },
  {
   "cell_type": "code",
   "execution_count": null,
   "id": "29caf33f-164b-41e8-a9aa-d61250ccf14e",
   "metadata": {},
   "outputs": [],
   "source": [
    "# 5 How do you create a simple Flask application?\n",
    "\"\"\"\n",
    "Install Flask, import it, create an app object, define routes using @app.route(), and run with app.run()\n",
    "\"\"\"\n"
   ]
  },
  {
   "cell_type": "code",
   "execution_count": null,
   "id": "c6f22671-8fbf-4216-a716-b000a4da933c",
   "metadata": {},
   "outputs": [],
   "source": [
    "# 6 What are HTTP methods used in RESTful APIs?\n",
    "\"\"\"\n",
    "Common methods are: GET (read), POST (create), PUT (update), PATCH (partial update), and DELETE (remove).\n",
    "\"\"\""
   ]
  },
  {
   "cell_type": "code",
   "execution_count": null,
   "id": "0db66921-2fb1-4696-8856-5c48bf365ec2",
   "metadata": {},
   "outputs": [],
   "source": [
    "# 7 What is the purpose of the @app.route() decorator in Flask?\n",
    "\"\"\"\n",
    "It binds a URL path to a function so that the function is executed when that URL is requested\n",
    "\"\"\""
   ]
  },
  {
   "cell_type": "code",
   "execution_count": null,
   "id": "405ddb67-0252-400b-8a69-936796003bcb",
   "metadata": {},
   "outputs": [],
   "source": [
    "# 8 What is the difference between GET and POST HTTP methods?\n",
    "\"\"\"\n",
    "GET retrieves data and appends parameters in the URL, while POST sends data in the request body for creating or updating resources.\n",
    "\"\"\""
   ]
  },
  {
   "cell_type": "code",
   "execution_count": null,
   "id": "9a153a9d-2b39-4fa2-bce2-722ff863a1b6",
   "metadata": {},
   "outputs": [],
   "source": [
    "# 9 How do you handle errors in Flask APIs?\n",
    "\"\"\"\n",
    "Use error handlers (@app.errorhandler) or return responses with appropriate HTTP status codes and messages.\n",
    "\"\"\""
   ]
  },
  {
   "cell_type": "code",
   "execution_count": null,
   "id": "b822eb84-1096-4834-b56e-9896c6d0e159",
   "metadata": {},
   "outputs": [],
   "source": [
    "# 10 How do you connect Flask to a SQL database?\n",
    "\"\"\"\n",
    "Use libraries like Flask-SQLAlchemy to define models, establish a connection, and perform database queries\n",
    "\"\"\""
   ]
  },
  {
   "cell_type": "code",
   "execution_count": null,
   "id": "0ffc28d4-6911-4eec-bd0b-4ce8386df003",
   "metadata": {},
   "outputs": [],
   "source": [
    "# 11  What is the role of Flask-SQLAlchemy?\n",
    "\"\"\"\n",
    "It simplifies database interaction by providing an ORM (Object Relational Mapping) layer for handling tables as Python classes.\n",
    "\"\"\""
   ]
  },
  {
   "cell_type": "code",
   "execution_count": null,
   "id": "9be1da35-c7bf-4af0-857f-6b8ac86ab6b3",
   "metadata": {},
   "outputs": [],
   "source": [
    "# 12 What are Flask blueprints, and how are they useful?\n",
    "\"\"\"\n",
    "Blueprints allow modular structuring of a Flask app, enabling better organization by grouping related routes and logic.\n",
    "\"\"\""
   ]
  },
  {
   "cell_type": "code",
   "execution_count": null,
   "id": "424d9b26-1117-4947-bc46-c3d91f292284",
   "metadata": {},
   "outputs": [],
   "source": [
    "# 13 What is the purpose of Flask's request object?\n",
    "\"\"\"\n",
    "It represents the incoming HTTP request and provides access to data like form inputs, JSON, headers, and query parameters.\n",
    "\"\"\""
   ]
  },
  {
   "cell_type": "code",
   "execution_count": null,
   "id": "680b3eb4-a990-4b7f-a8ad-9d4a9e3db576",
   "metadata": {},
   "outputs": [],
   "source": [
    "# 14  How do you create a RESTful API endpoint using Flask?\n",
    "\"\"\"\n",
    "Define a route with @app.route() and implement logic inside a function, returning JSON or other responses.\n",
    "\"\"\"\n"
   ]
  },
  {
   "cell_type": "code",
   "execution_count": null,
   "id": "48333b23-5491-4a07-aa1b-655ac70ca07f",
   "metadata": {},
   "outputs": [],
   "source": [
    "# 15  What is the purpose of Flask's jsonify() function?\n",
    "\"\"\"\n",
    "It converts Python dictionaries or lists into JSON format responses with the correct application/json header.\n",
    "\"\"\""
   ]
  },
  {
   "cell_type": "code",
   "execution_count": null,
   "id": "33369466-aac8-4771-8965-c2613dea0730",
   "metadata": {},
   "outputs": [],
   "source": [
    "# 16  Explain Flask’s url_for() function?\n",
    "\"\"\"\n",
    "url_for() generates dynamic URLs for routes by using the function name, avoiding hardcoding paths.\n",
    "\"\"\""
   ]
  },
  {
   "cell_type": "code",
   "execution_count": null,
   "id": "de956e86-d3a7-40f4-aa6c-7e6c83db62ba",
   "metadata": {},
   "outputs": [],
   "source": [
    "# 17 How does Flask handle static files (CSS, JavaScript, etc.)?\n",
    "\"\"\"\n",
    "Flask automatically serves files from the static/ directory, accessible via /static/filename.\n",
    "\"\"\""
   ]
  },
  {
   "cell_type": "code",
   "execution_count": null,
   "id": "eaf554c4-d784-450f-827e-c407bea9aca3",
   "metadata": {},
   "outputs": [],
   "source": [
    "# 18 What is an API specification, and how does it help in building a Flask API?\n",
    "\"\"\"\n",
    "It’s a documented blueprint of endpoints and data formats, ensuring consistency and helping teams integrate easily.\n",
    "\"\"\""
   ]
  },
  {
   "cell_type": "code",
   "execution_count": null,
   "id": "b63bd125-01dd-453a-baa2-19960a1d232c",
   "metadata": {},
   "outputs": [],
   "source": [
    "# 19 What are HTTP status codes, and why are they important in a Flask API?\n",
    "\"\"\"\n",
    "They indicate the result of a request (e.g., 200 = OK, 404 = Not Found, 500 = Server Error) and help clients understand API responses.\n",
    "\"\"\""
   ]
  },
  {
   "cell_type": "code",
   "execution_count": null,
   "id": "22aa96b1-f488-41c3-b5e8-8c9105591ce2",
   "metadata": {},
   "outputs": [],
   "source": [
    "# 20  How do you handle POST requests in Flask?\n",
    "\"\"\"\n",
    "Define a route with methods=['POST'] and use request.form or request.json to access client data.\n",
    "\"\"\""
   ]
  },
  {
   "cell_type": "code",
   "execution_count": null,
   "id": "58a2d516-dbfb-49e6-a4bf-f2a2702c2899",
   "metadata": {},
   "outputs": [],
   "source": [
    "# 21 How would you secure a Flask API?\n",
    "\"\"\"\n",
    "Use authentication (JWT, OAuth), HTTPS, input validation, and rate limiting to protect against misuse.\n",
    "\"\"\""
   ]
  },
  {
   "cell_type": "code",
   "execution_count": null,
   "id": "76c03957-88ff-476b-9bec-094ee5485ca2",
   "metadata": {},
   "outputs": [],
   "source": [
    "# 22 What is the significance of the Flask-RESTful extension?\n",
    "\"\"\"\n",
    "It provides tools to build REST APIs easily, including resource classes, request parsing, and response formatting.\n",
    "\"\"\""
   ]
  },
  {
   "cell_type": "code",
   "execution_count": null,
   "id": "74c36bbf-69c0-43f5-a8b1-9ac50987e93c",
   "metadata": {},
   "outputs": [],
   "source": [
    "# 23  What is the role of Flask’s session object?\n",
    "\"\"\"\n",
    "It stores user-specific data across requests on the server side, secured with a secret key.\n",
    "\"\"\""
   ]
  },
  {
   "cell_type": "code",
   "execution_count": 1,
   "id": "43dbcb13-811b-42bc-890e-fbd6f516b723",
   "metadata": {},
   "outputs": [
    {
     "data": {
      "text/plain": [
       "'\\nfrom flask import Flask\\napp = Flask(__name__)\\n\\n@app.route(\\'/\\')\\ndef home():\\n    return \"Hello, Flask!\"\\n\\nif __name__ == \\'__main__\\':\\n    app.run(debug=True)\\n\\n'"
      ]
     },
     "execution_count": 1,
     "metadata": {},
     "output_type": "execute_result"
    }
   ],
   "source": [
    "# 1  How do you create a basic Flask application?\n",
    "\"\"\"\n",
    "from flask import Flask\n",
    "app = Flask(__name__)\n",
    "\n",
    "@app.route('/')\n",
    "def home():\n",
    "    return \"Hello, Flask!\"\n",
    "\n",
    "if __name__ == '__main__':\n",
    "    app.run(debug=True)\n",
    "\n",
    "\"\"\""
   ]
  },
  {
   "cell_type": "code",
   "execution_count": 2,
   "id": "f63dfeb3-d4b7-40ac-ac54-f2f8978a5c23",
   "metadata": {},
   "outputs": [
    {
     "data": {
      "text/plain": [
       "'\\n# Example: Access via /static/style.css\\n<link rel=\"stylesheet\" href=\"{{ url_for(\\'static\\', filename=\\'style.css\\') }}\">\\n\\n'"
      ]
     },
     "execution_count": 2,
     "metadata": {},
     "output_type": "execute_result"
    }
   ],
   "source": [
    "# 2 How do you serve static files like images or CSS in Flask?\n",
    "\"\"\"\n",
    "# Example: Access via /static/style.css\n",
    "<link rel=\"stylesheet\" href=\"{{ url_for('static', filename='style.css') }}\">\n",
    "\n",
    "\"\"\""
   ]
  },
  {
   "cell_type": "code",
   "execution_count": 3,
   "id": "0a95096d-3556-4815-8ee8-aee2eea84a53",
   "metadata": {},
   "outputs": [
    {
     "data": {
      "text/plain": [
       "'\\n@app.route(\\'/data\\', methods=[\\'GET\\'])\\ndef get_data():\\n    return \"GET request\"\\n\\n@app.route(\\'/data\\', methods=[\\'POST\\'])\\ndef post_data():\\n    return \"POST request\"\\n\\n'"
      ]
     },
     "execution_count": 3,
     "metadata": {},
     "output_type": "execute_result"
    }
   ],
   "source": [
    "# 3 How do you define different routes with different HTTP methods in Flask?\n",
    "\"\"\"\n",
    "@app.route('/data', methods=['GET'])\n",
    "def get_data():\n",
    "    return \"GET request\"\n",
    "\n",
    "@app.route('/data', methods=['POST'])\n",
    "def post_data():\n",
    "    return \"POST request\"\n",
    "\n",
    "\"\"\""
   ]
  },
  {
   "cell_type": "code",
   "execution_count": 5,
   "id": "3770a68d-905f-47eb-b619-de1e0f6bd6c9",
   "metadata": {},
   "outputs": [
    {
     "data": {
      "text/plain": [
       "'\\nfrom flask import render_template\\n@app.route(\\'/about\\')\\ndef about():\\n    return render_template(\"about.html\")\\n\\n'"
      ]
     },
     "execution_count": 5,
     "metadata": {},
     "output_type": "execute_result"
    }
   ],
   "source": [
    "# 4 How do you render HTML templates in Flask?\n",
    "\"\"\"\n",
    "from flask import render_template\n",
    "@app.route('/about')\n",
    "def about():\n",
    "    return render_template(\"about.html\")\n",
    "\n",
    "\"\"\""
   ]
  },
  {
   "cell_type": "code",
   "execution_count": 6,
   "id": "3d454745-c710-4a00-af93-f6bb1da3eb9d",
   "metadata": {},
   "outputs": [
    {
     "data": {
      "text/plain": [
       "'\\n@app.route(\\'/user/<name>\\')\\ndef user(name):\\n    return f\"Hello {name}\"\\n\\n@app.route(\\'/home\\')\\ndef home():\\n    return f\"Go to {url_for(\\'user\\', name=\\'Shivang\\')}\"\\n\\n'"
      ]
     },
     "execution_count": 6,
     "metadata": {},
     "output_type": "execute_result"
    }
   ],
   "source": [
    "# 5  How can you generate URLs for routes in Flask using url_for?\n",
    "\"\"\"\n",
    "@app.route('/user/<name>')\n",
    "def user(name):\n",
    "    return f\"Hello {name}\"\n",
    "\n",
    "@app.route('/home')\n",
    "def home():\n",
    "    return f\"Go to {url_for('user', name='Shivang')}\"\n",
    "\n",
    "\"\"\""
   ]
  },
  {
   "cell_type": "code",
   "execution_count": 7,
   "id": "15d5869e-5a70-4978-9121-0659230c8ae3",
   "metadata": {},
   "outputs": [
    {
     "data": {
      "text/plain": [
       "'\\nfrom flask import request\\n@app.route(\\'/login\\', methods=[\\'GET\\',\\'POST\\'])\\ndef login():\\n    if request.method == \\'POST\\':\\n        return f\"Welcome {request.form[\\'username\\']}\"\\n    return \\'\\'\\'\\n        <form method=\"post\">\\n            <input name=\"username\">\\n            <input type=\"submit\">\\n        </form>\\n    \\'\\'\\'\\n\\n'"
      ]
     },
     "execution_count": 7,
     "metadata": {},
     "output_type": "execute_result"
    }
   ],
   "source": [
    "# 6 How do you handle forms in Flask?\n",
    "\"\"\"\n",
    "from flask import request\n",
    "@app.route('/login', methods=['GET','POST'])\n",
    "def login():\n",
    "    if request.method == 'POST':\n",
    "        return f\"Welcome {request.form['username']}\"\n",
    "    return '''\n",
    "        <form method=\"post\">\n",
    "            <input name=\"username\">\n",
    "            <input type=\"submit\">\n",
    "        </form>\n",
    "    '''\n",
    "\n",
    "\"\"\""
   ]
  },
  {
   "cell_type": "code",
   "execution_count": 8,
   "id": "3153b4b8-4513-4ed6-9572-d192b9e0953f",
   "metadata": {},
   "outputs": [
    {
     "data": {
      "text/plain": [
       "'\\n@app.route(\\'/register\\', methods=[\\'POST\\'])\\ndef register():\\n    username = request.form.get(\\'username\\')\\n    if not username:\\n        return \"Username is required!\"\\n    return f\"Registered: {username}\"\\n\\n'"
      ]
     },
     "execution_count": 8,
     "metadata": {},
     "output_type": "execute_result"
    }
   ],
   "source": [
    "# 7 How can you validate form data in Flask?\n",
    "\"\"\"\n",
    "@app.route('/register', methods=['POST'])\n",
    "def register():\n",
    "    username = request.form.get('username')\n",
    "    if not username:\n",
    "        return \"Username is required!\"\n",
    "    return f\"Registered: {username}\"\n",
    "\n",
    "\"\"\""
   ]
  },
  {
   "cell_type": "code",
   "execution_count": 9,
   "id": "7581758a-cb5d-4d3e-8341-ad11c3f73e8a",
   "metadata": {},
   "outputs": [
    {
     "data": {
      "text/plain": [
       "'\\nfrom flask import session\\napp.secret_key = \"secret\"\\n\\n@app.route(\\'/set\\')\\ndef set_session():\\n    session[\\'user\\'] = \\'Shivang\\'\\n    return \"Session set!\"\\n\\n@app.route(\\'/get\\')\\ndef get_session():\\n    return session.get(\\'user\\', \\'Not set\\')\\n\\n'"
      ]
     },
     "execution_count": 9,
     "metadata": {},
     "output_type": "execute_result"
    }
   ],
   "source": [
    "# 8  How do you manage sessions in Flask?\n",
    "\"\"\"\n",
    "from flask import session\n",
    "app.secret_key = \"secret\"\n",
    "\n",
    "@app.route('/set')\n",
    "def set_session():\n",
    "    session['user'] = 'Shivang'\n",
    "    return \"Session set!\"\n",
    "\n",
    "@app.route('/get')\n",
    "def get_session():\n",
    "    return session.get('user', 'Not set')\n",
    "\n",
    "\"\"\""
   ]
  },
  {
   "cell_type": "code",
   "execution_count": 10,
   "id": "53244749-fa41-45b4-beec-82eee5807c64",
   "metadata": {},
   "outputs": [
    {
     "data": {
      "text/plain": [
       "'\\nfrom flask import redirect, url_for\\n\\n@app.route(\\'/old\\')\\ndef old():\\n    return redirect(url_for(\\'new\\'))\\n\\n@app.route(\\'/new\\')\\ndef new():\\n    return \"This is new page\"\\n\\n'"
      ]
     },
     "execution_count": 10,
     "metadata": {},
     "output_type": "execute_result"
    }
   ],
   "source": [
    "#  9 How do you redirect to a different route in Flask?\n",
    "\"\"\"\n",
    "from flask import redirect, url_for\n",
    "\n",
    "@app.route('/old')\n",
    "def old():\n",
    "    return redirect(url_for('new'))\n",
    "\n",
    "@app.route('/new')\n",
    "def new():\n",
    "    return \"This is new page\"\n",
    "\n",
    "\"\"\""
   ]
  },
  {
   "cell_type": "code",
   "execution_count": 11,
   "id": "75d48763-fbba-4743-a271-48edbee6debb",
   "metadata": {},
   "outputs": [
    {
     "data": {
      "text/plain": [
       "'\\n@app.errorhandler(404)\\ndef page_not_found(e):\\n    return \"Page Not Found!\", 404\\n\\n'"
      ]
     },
     "execution_count": 11,
     "metadata": {},
     "output_type": "execute_result"
    }
   ],
   "source": [
    "# 10 How do you handle errors in Flask (e.g., 404)? \n",
    "\"\"\"\n",
    "@app.errorhandler(404)\n",
    "def page_not_found(e):\n",
    "    return \"Page Not Found!\", 404\n",
    "\n",
    "\"\"\""
   ]
  },
  {
   "cell_type": "code",
   "execution_count": 12,
   "id": "95f7202c-4b87-4b81-af0f-09a67d230eee",
   "metadata": {},
   "outputs": [
    {
     "data": {
      "text/plain": [
       "'\\nfrom flask import Blueprint\\nbp = Blueprint(\\'admin\\', __name__)\\n\\n@bp.route(\\'/dashboard\\')\\ndef dashboard():\\n    return \"Admin Dashboard\"\\n\\napp.register_blueprint(bp, url_prefix=\\'/admin\\')\\n\\n'"
      ]
     },
     "execution_count": 12,
     "metadata": {},
     "output_type": "execute_result"
    }
   ],
   "source": [
    "# 11 How do you structure a Flask app using Blueprints? \n",
    "\"\"\"\n",
    "from flask import Blueprint\n",
    "bp = Blueprint('admin', __name__)\n",
    "\n",
    "@bp.route('/dashboard')\n",
    "def dashboard():\n",
    "    return \"Admin Dashboard\"\n",
    "\n",
    "app.register_blueprint(bp, url_prefix='/admin')\n",
    "\n",
    "\"\"\""
   ]
  },
  {
   "cell_type": "code",
   "execution_count": 13,
   "id": "e4798826-14f0-40c7-9a50-abc26ba3eddf",
   "metadata": {},
   "outputs": [
    {
     "data": {
      "text/plain": [
       "'\\n@app.template_filter(\\'reverse\\')\\ndef reverse_filter(s):\\n    return s[::-1]\\n\\n# In template: {{ \"hello\"|reverse }}\\n\\n'"
      ]
     },
     "execution_count": 13,
     "metadata": {},
     "output_type": "execute_result"
    }
   ],
   "source": [
    "# 12  How do you define a custom Jinja filter in Flask? \n",
    "\"\"\"\n",
    "@app.template_filter('reverse')\n",
    "def reverse_filter(s):\n",
    "    return s[::-1]\n",
    "\n",
    "# In template: {{ \"hello\"|reverse }}\n",
    "\n",
    "\"\"\""
   ]
  },
  {
   "cell_type": "code",
   "execution_count": 14,
   "id": "21febf08-7722-417c-abeb-a9d02c108a1d",
   "metadata": {},
   "outputs": [
    {
     "data": {
      "text/plain": [
       "'\\n@app.route(\\'/search\\')\\ndef search():\\n    return redirect(url_for(\\'result\\', q=\"Flask\"))\\n\\n@app.route(\\'/result\\')\\ndef result():\\n    return f\"Query: {request.args.get(\\'q\\')}\"\\n\\n'"
      ]
     },
     "execution_count": 14,
     "metadata": {},
     "output_type": "execute_result"
    }
   ],
   "source": [
    "# 13 How can you redirect with query parameters in Flask?\n",
    "\"\"\"\n",
    "@app.route('/search')\n",
    "def search():\n",
    "    return redirect(url_for('result', q=\"Flask\"))\n",
    "\n",
    "@app.route('/result')\n",
    "def result():\n",
    "    return f\"Query: {request.args.get('q')}\"\n",
    "\n",
    "\"\"\""
   ]
  },
  {
   "cell_type": "code",
   "execution_count": 15,
   "id": "8a35833c-3fc1-4015-85bb-dc9903152b76",
   "metadata": {},
   "outputs": [
    {
     "data": {
      "text/plain": [
       "'\\nfrom flask import jsonify\\n@app.route(\\'/json\\')\\ndef json_example():\\n    return jsonify(name=\"Shivang\", lang=\"Python\")\\n\\n'"
      ]
     },
     "execution_count": 15,
     "metadata": {},
     "output_type": "execute_result"
    }
   ],
   "source": [
    "# 14 How do you return JSON responses in Flask?\n",
    "\"\"\"\n",
    "from flask import jsonify\n",
    "@app.route('/json')\n",
    "def json_example():\n",
    "    return jsonify(name=\"Shivang\", lang=\"Python\")\n",
    "\n",
    "\"\"\""
   ]
  },
  {
   "cell_type": "code",
   "execution_count": null,
   "id": "333d1799-7473-4ee3-a351-2626cd92ab65",
   "metadata": {},
   "outputs": [],
   "source": [
    "# 15 How do you capture URL parameters in Flask?\\\n",
    "\"\"\"\n",
    "@app.route('/user/<username>')\n",
    "def profile(username):\n",
    "    return f\"User: {username}\"\n",
    "\n",
    "\"\"\""
   ]
  }
 ],
 "metadata": {
  "kernelspec": {
   "display_name": "Python 3 (ipykernel)",
   "language": "python",
   "name": "python3"
  },
  "language_info": {
   "codemirror_mode": {
    "name": "ipython",
    "version": 3
   },
   "file_extension": ".py",
   "mimetype": "text/x-python",
   "name": "python",
   "nbconvert_exporter": "python",
   "pygments_lexer": "ipython3",
   "version": "3.13.7"
  }
 },
 "nbformat": 4,
 "nbformat_minor": 5
}
